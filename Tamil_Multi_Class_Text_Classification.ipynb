{
  "nbformat": 4,
  "nbformat_minor": 0,
  "metadata": {
    "colab": {
      "provenance": [],
      "gpuType": "T4"
    },
    "kernelspec": {
      "name": "python3",
      "display_name": "Python 3"
    },
    "language_info": {
      "name": "python"
    },
    "accelerator": "GPU"
  },
  "cells": [
    {
      "cell_type": "code",
      "source": [
        "from google.colab import drive\n",
        "drive.mount('/content/drive')"
      ],
      "metadata": {
        "colab": {
          "base_uri": "https://localhost:8080/"
        },
        "id": "N38LQYusSF92",
        "outputId": "dbcec98e-7b3f-403f-f698-e09edea58bff"
      },
      "execution_count": 1,
      "outputs": [
        {
          "output_type": "stream",
          "name": "stdout",
          "text": [
            "Mounted at /content/drive\n"
          ]
        }
      ]
    },
    {
      "cell_type": "markdown",
      "source": [
        "***Importing necessary libraries***"
      ],
      "metadata": {
        "id": "c3zqZidDHdh0"
      }
    },
    {
      "cell_type": "code",
      "execution_count": 18,
      "metadata": {
        "id": "2ag0acDC0JuQ"
      },
      "outputs": [],
      "source": [
        "import pandas as pd\n",
        "# import libraries and packages\n",
        "import numpy as np\n",
        "import pandas as pd\n",
        "import re\n",
        "import time\n",
        "from nltk import word_tokenize\n",
        "import string\n",
        "from tqdm import tqdm\n",
        "from sklearn import svm\n",
        "from sklearn.naive_bayes import MultinomialNB\n",
        "from sklearn.linear_model import LogisticRegression\n",
        "from sklearn.metrics import accuracy_score, confusion_matrix, classification_report, f1_score\n",
        "from sklearn.feature_extraction.text import  CountVectorizer, TfidfTransformer,TfidfVectorizer\n",
        "from sklearn.ensemble import RandomForestClassifier\n",
        "from sklearn.ensemble import VotingClassifier\n",
        "from sklearn.metrics import precision_recall_fscore_support as score\n",
        "from textblob import TextBlob\n",
        "from tensorflow.keras.models import Sequential\n",
        "from tensorflow.keras.layers import Embedding, Conv1D, MaxPooling1D, GRU, Dense, Dropout\n"
      ]
    },
    {
      "cell_type": "markdown",
      "source": [
        "**Data loading and preprocessing**"
      ],
      "metadata": {
        "id": "_AKB3aLvIKGj"
      }
    },
    {
      "cell_type": "code",
      "source": [
        "data_train= pd.read_csv(\"/content/drive/MyDrive/PS_train.csv\")\n",
        "data_test= pd.read_csv(\"/content/drive/MyDrive/PS_dev.csv\")\n",
        "\n",
        "def clean_text(text):\n",
        "    stop_words=open(r'/content/drive/MyDrive/icon_task_2020/TamilStopWords.txt', encoding='utf=8').read().split('\\n')\n",
        "    text = re.sub('@[a-zA-Z0-9]*', '', str(text))\n",
        "    text = \"\".join([word for word in text if word not in string.punctuation])\n",
        "    text = \"\".join([word for word in text if not word.isdigit()])\n",
        "    tokens = re.split('\\s+',text)\n",
        "    text = \" \".join(word for word in tokens if word not in stop_words)          # here english words may lemmatize so kept lematization\n",
        "    return text"
      ],
      "metadata": {
        "id": "NviYRTXyII2r"
      },
      "execution_count": 5,
      "outputs": []
    },
    {
      "cell_type": "code",
      "source": [
        "print(len(data_train), len(data_test))\n",
        "data_train.head()"
      ],
      "metadata": {
        "colab": {
          "base_uri": "https://localhost:8080/",
          "height": 224
        },
        "id": "a57Jkc5G3eLB",
        "outputId": "6d6c8d89-8ce7-4840-ac59-45175c7a851d"
      },
      "execution_count": 6,
      "outputs": [
        {
          "output_type": "stream",
          "name": "stdout",
          "text": [
            "4352 544\n"
          ]
        },
        {
          "output_type": "execute_result",
          "data": {
            "text/plain": [
              "                                             content         labels\n",
              "0  தென்காசி தொகுதி புதிய தமிழகம் கட்சி வேட்பாளர் ...        Neutral\n",
              "1  அண்ணன் இதனை சூசகமாக 11 மாதங்கள் முன்பே பேட்டிய...  Substantiated\n",
              "2  ஒரு வருடம் ஆகி விட்டது இந்த துயரம் நேர்ந்து......    Opinionated\n",
              "3  எடப்பாடியை கண்டுகொள்ளாத \"எடப்பாடி\"🫢\\n ---\\nஆதர...       Positive\n",
              "4  எங்களின் அரசியல் அடுத்த தலைமுறைக்குமானது \\n#மக...    Opinionated"
            ],
            "text/html": [
              "\n",
              "  <div id=\"df-fb20a40a-41fd-4a5b-a93e-96049a497a31\" class=\"colab-df-container\">\n",
              "    <div>\n",
              "<style scoped>\n",
              "    .dataframe tbody tr th:only-of-type {\n",
              "        vertical-align: middle;\n",
              "    }\n",
              "\n",
              "    .dataframe tbody tr th {\n",
              "        vertical-align: top;\n",
              "    }\n",
              "\n",
              "    .dataframe thead th {\n",
              "        text-align: right;\n",
              "    }\n",
              "</style>\n",
              "<table border=\"1\" class=\"dataframe\">\n",
              "  <thead>\n",
              "    <tr style=\"text-align: right;\">\n",
              "      <th></th>\n",
              "      <th>content</th>\n",
              "      <th>labels</th>\n",
              "    </tr>\n",
              "  </thead>\n",
              "  <tbody>\n",
              "    <tr>\n",
              "      <th>0</th>\n",
              "      <td>தென்காசி தொகுதி புதிய தமிழகம் கட்சி வேட்பாளர் ...</td>\n",
              "      <td>Neutral</td>\n",
              "    </tr>\n",
              "    <tr>\n",
              "      <th>1</th>\n",
              "      <td>அண்ணன் இதனை சூசகமாக 11 மாதங்கள் முன்பே பேட்டிய...</td>\n",
              "      <td>Substantiated</td>\n",
              "    </tr>\n",
              "    <tr>\n",
              "      <th>2</th>\n",
              "      <td>ஒரு வருடம் ஆகி விட்டது இந்த துயரம் நேர்ந்து......</td>\n",
              "      <td>Opinionated</td>\n",
              "    </tr>\n",
              "    <tr>\n",
              "      <th>3</th>\n",
              "      <td>எடப்பாடியை கண்டுகொள்ளாத \"எடப்பாடி\"🫢\\n ---\\nஆதர...</td>\n",
              "      <td>Positive</td>\n",
              "    </tr>\n",
              "    <tr>\n",
              "      <th>4</th>\n",
              "      <td>எங்களின் அரசியல் அடுத்த தலைமுறைக்குமானது \\n#மக...</td>\n",
              "      <td>Opinionated</td>\n",
              "    </tr>\n",
              "  </tbody>\n",
              "</table>\n",
              "</div>\n",
              "    <div class=\"colab-df-buttons\">\n",
              "\n",
              "  <div class=\"colab-df-container\">\n",
              "    <button class=\"colab-df-convert\" onclick=\"convertToInteractive('df-fb20a40a-41fd-4a5b-a93e-96049a497a31')\"\n",
              "            title=\"Convert this dataframe to an interactive table.\"\n",
              "            style=\"display:none;\">\n",
              "\n",
              "  <svg xmlns=\"http://www.w3.org/2000/svg\" height=\"24px\" viewBox=\"0 -960 960 960\">\n",
              "    <path d=\"M120-120v-720h720v720H120Zm60-500h600v-160H180v160Zm220 220h160v-160H400v160Zm0 220h160v-160H400v160ZM180-400h160v-160H180v160Zm440 0h160v-160H620v160ZM180-180h160v-160H180v160Zm440 0h160v-160H620v160Z\"/>\n",
              "  </svg>\n",
              "    </button>\n",
              "\n",
              "  <style>\n",
              "    .colab-df-container {\n",
              "      display:flex;\n",
              "      gap: 12px;\n",
              "    }\n",
              "\n",
              "    .colab-df-convert {\n",
              "      background-color: #E8F0FE;\n",
              "      border: none;\n",
              "      border-radius: 50%;\n",
              "      cursor: pointer;\n",
              "      display: none;\n",
              "      fill: #1967D2;\n",
              "      height: 32px;\n",
              "      padding: 0 0 0 0;\n",
              "      width: 32px;\n",
              "    }\n",
              "\n",
              "    .colab-df-convert:hover {\n",
              "      background-color: #E2EBFA;\n",
              "      box-shadow: 0px 1px 2px rgba(60, 64, 67, 0.3), 0px 1px 3px 1px rgba(60, 64, 67, 0.15);\n",
              "      fill: #174EA6;\n",
              "    }\n",
              "\n",
              "    .colab-df-buttons div {\n",
              "      margin-bottom: 4px;\n",
              "    }\n",
              "\n",
              "    [theme=dark] .colab-df-convert {\n",
              "      background-color: #3B4455;\n",
              "      fill: #D2E3FC;\n",
              "    }\n",
              "\n",
              "    [theme=dark] .colab-df-convert:hover {\n",
              "      background-color: #434B5C;\n",
              "      box-shadow: 0px 1px 3px 1px rgba(0, 0, 0, 0.15);\n",
              "      filter: drop-shadow(0px 1px 2px rgba(0, 0, 0, 0.3));\n",
              "      fill: #FFFFFF;\n",
              "    }\n",
              "  </style>\n",
              "\n",
              "    <script>\n",
              "      const buttonEl =\n",
              "        document.querySelector('#df-fb20a40a-41fd-4a5b-a93e-96049a497a31 button.colab-df-convert');\n",
              "      buttonEl.style.display =\n",
              "        google.colab.kernel.accessAllowed ? 'block' : 'none';\n",
              "\n",
              "      async function convertToInteractive(key) {\n",
              "        const element = document.querySelector('#df-fb20a40a-41fd-4a5b-a93e-96049a497a31');\n",
              "        const dataTable =\n",
              "          await google.colab.kernel.invokeFunction('convertToInteractive',\n",
              "                                                    [key], {});\n",
              "        if (!dataTable) return;\n",
              "\n",
              "        const docLinkHtml = 'Like what you see? Visit the ' +\n",
              "          '<a target=\"_blank\" href=https://colab.research.google.com/notebooks/data_table.ipynb>data table notebook</a>'\n",
              "          + ' to learn more about interactive tables.';\n",
              "        element.innerHTML = '';\n",
              "        dataTable['output_type'] = 'display_data';\n",
              "        await google.colab.output.renderOutput(dataTable, element);\n",
              "        const docLink = document.createElement('div');\n",
              "        docLink.innerHTML = docLinkHtml;\n",
              "        element.appendChild(docLink);\n",
              "      }\n",
              "    </script>\n",
              "  </div>\n",
              "\n",
              "\n",
              "<div id=\"df-30a931b1-194c-457d-aa1f-fce0125cc9ed\">\n",
              "  <button class=\"colab-df-quickchart\" onclick=\"quickchart('df-30a931b1-194c-457d-aa1f-fce0125cc9ed')\"\n",
              "            title=\"Suggest charts\"\n",
              "            style=\"display:none;\">\n",
              "\n",
              "<svg xmlns=\"http://www.w3.org/2000/svg\" height=\"24px\"viewBox=\"0 0 24 24\"\n",
              "     width=\"24px\">\n",
              "    <g>\n",
              "        <path d=\"M19 3H5c-1.1 0-2 .9-2 2v14c0 1.1.9 2 2 2h14c1.1 0 2-.9 2-2V5c0-1.1-.9-2-2-2zM9 17H7v-7h2v7zm4 0h-2V7h2v10zm4 0h-2v-4h2v4z\"/>\n",
              "    </g>\n",
              "</svg>\n",
              "  </button>\n",
              "\n",
              "<style>\n",
              "  .colab-df-quickchart {\n",
              "      --bg-color: #E8F0FE;\n",
              "      --fill-color: #1967D2;\n",
              "      --hover-bg-color: #E2EBFA;\n",
              "      --hover-fill-color: #174EA6;\n",
              "      --disabled-fill-color: #AAA;\n",
              "      --disabled-bg-color: #DDD;\n",
              "  }\n",
              "\n",
              "  [theme=dark] .colab-df-quickchart {\n",
              "      --bg-color: #3B4455;\n",
              "      --fill-color: #D2E3FC;\n",
              "      --hover-bg-color: #434B5C;\n",
              "      --hover-fill-color: #FFFFFF;\n",
              "      --disabled-bg-color: #3B4455;\n",
              "      --disabled-fill-color: #666;\n",
              "  }\n",
              "\n",
              "  .colab-df-quickchart {\n",
              "    background-color: var(--bg-color);\n",
              "    border: none;\n",
              "    border-radius: 50%;\n",
              "    cursor: pointer;\n",
              "    display: none;\n",
              "    fill: var(--fill-color);\n",
              "    height: 32px;\n",
              "    padding: 0;\n",
              "    width: 32px;\n",
              "  }\n",
              "\n",
              "  .colab-df-quickchart:hover {\n",
              "    background-color: var(--hover-bg-color);\n",
              "    box-shadow: 0 1px 2px rgba(60, 64, 67, 0.3), 0 1px 3px 1px rgba(60, 64, 67, 0.15);\n",
              "    fill: var(--button-hover-fill-color);\n",
              "  }\n",
              "\n",
              "  .colab-df-quickchart-complete:disabled,\n",
              "  .colab-df-quickchart-complete:disabled:hover {\n",
              "    background-color: var(--disabled-bg-color);\n",
              "    fill: var(--disabled-fill-color);\n",
              "    box-shadow: none;\n",
              "  }\n",
              "\n",
              "  .colab-df-spinner {\n",
              "    border: 2px solid var(--fill-color);\n",
              "    border-color: transparent;\n",
              "    border-bottom-color: var(--fill-color);\n",
              "    animation:\n",
              "      spin 1s steps(1) infinite;\n",
              "  }\n",
              "\n",
              "  @keyframes spin {\n",
              "    0% {\n",
              "      border-color: transparent;\n",
              "      border-bottom-color: var(--fill-color);\n",
              "      border-left-color: var(--fill-color);\n",
              "    }\n",
              "    20% {\n",
              "      border-color: transparent;\n",
              "      border-left-color: var(--fill-color);\n",
              "      border-top-color: var(--fill-color);\n",
              "    }\n",
              "    30% {\n",
              "      border-color: transparent;\n",
              "      border-left-color: var(--fill-color);\n",
              "      border-top-color: var(--fill-color);\n",
              "      border-right-color: var(--fill-color);\n",
              "    }\n",
              "    40% {\n",
              "      border-color: transparent;\n",
              "      border-right-color: var(--fill-color);\n",
              "      border-top-color: var(--fill-color);\n",
              "    }\n",
              "    60% {\n",
              "      border-color: transparent;\n",
              "      border-right-color: var(--fill-color);\n",
              "    }\n",
              "    80% {\n",
              "      border-color: transparent;\n",
              "      border-right-color: var(--fill-color);\n",
              "      border-bottom-color: var(--fill-color);\n",
              "    }\n",
              "    90% {\n",
              "      border-color: transparent;\n",
              "      border-bottom-color: var(--fill-color);\n",
              "    }\n",
              "  }\n",
              "</style>\n",
              "\n",
              "  <script>\n",
              "    async function quickchart(key) {\n",
              "      const quickchartButtonEl =\n",
              "        document.querySelector('#' + key + ' button');\n",
              "      quickchartButtonEl.disabled = true;  // To prevent multiple clicks.\n",
              "      quickchartButtonEl.classList.add('colab-df-spinner');\n",
              "      try {\n",
              "        const charts = await google.colab.kernel.invokeFunction(\n",
              "            'suggestCharts', [key], {});\n",
              "      } catch (error) {\n",
              "        console.error('Error during call to suggestCharts:', error);\n",
              "      }\n",
              "      quickchartButtonEl.classList.remove('colab-df-spinner');\n",
              "      quickchartButtonEl.classList.add('colab-df-quickchart-complete');\n",
              "    }\n",
              "    (() => {\n",
              "      let quickchartButtonEl =\n",
              "        document.querySelector('#df-30a931b1-194c-457d-aa1f-fce0125cc9ed button');\n",
              "      quickchartButtonEl.style.display =\n",
              "        google.colab.kernel.accessAllowed ? 'block' : 'none';\n",
              "    })();\n",
              "  </script>\n",
              "</div>\n",
              "\n",
              "    </div>\n",
              "  </div>\n"
            ],
            "application/vnd.google.colaboratory.intrinsic+json": {
              "type": "dataframe",
              "variable_name": "data_train",
              "summary": "{\n  \"name\": \"data_train\",\n  \"rows\": 4352,\n  \"fields\": [\n    {\n      \"column\": \"content\",\n      \"properties\": {\n        \"dtype\": \"string\",\n        \"num_unique_values\": 4181,\n        \"samples\": [\n          \"\\u0b85\\u0ba9\\u0bcd\\u0bb1\\u0bc1, \\u0b95\\u0bbe\\u0bb2\\u0bae\\u0bcd \\u0ba4\\u0bbf\\u0bb0\\u0bc1 \\u0bb0\\u0bbe\\u0b95\\u0bc1\\u0bb2\\u0bc1\\u0b95\\u0bcd\\u0b95\\u0bc1 \\u0b95\\u0bc8\\u0b95\\u0bcd\\u0b95\\u0bca\\u0b9f\\u0bc1\\u0b95\\u0bcd\\u0b95\\u0bb5\\u0bbf\\u0bb2\\u0bcd\\u0bb2\\u0bc8! \\n\\u0b87\\u0ba9\\u0bcd\\u0bb1\\u0bc1 \\u0b95\\u0bbe\\u0bb2\\u0bae\\u0bcd \\u0b9a\\u0bbf\\u0b95\\u0baa\\u0bcd\\u0baa\\u0bc1\\u0b95\\u0bcd \\u0b95\\u0bae\\u0bcd\\u0baa\\u0bb3\\u0bae\\u0bcd \\u0bb5\\u0bbf\\u0bb0\\u0bbf\\u0ba4\\u0bcd\\u0ba4\\u0bc1 \\u0bb5\\u0bb0\\u0bb5\\u0bc7\\u0bb1\\u0bcd\\u0bb1\\u0bc1 \\u0ba8\\u0bbf\\u0bb1\\u0bcd\\u0b95\\u0bbf\\u0bb1\\u0ba4\\u0bc1! \\n\\n\\u0bae\\u0bc1\\u0ba4\\u0bb2\\u0bcd\\u0bb5\\u0bb0\\u0bbf\\u0ba9\\u0bcd \\u0b85\\u0ba9\\u0bcd\\u0baa\\u0bc1\\u0ba4\\u0bcd \\u0ba4\\u0bae\\u0bcd\\u0baa\\u0bbf \\u0bb0\\u0bbe\\u0b95\\u0bc1\\u0bb2\\u0bbf\\u0ba9\\u0bcd \\u0bb5\\u0bb4\\u0bbf\\u0baf\\u0bbe\\u0b95 \\u201c\\u0ba4\\u0bbf\\u0bb0\\u0bbe\\u0bb5\\u0bbf\\u0b9f\\u0b9a\\u0bcd \\u0b9a\\u0bbf\\u0ba4\\u0bcd\\u0ba4\\u0bbe\\u0ba8\\u0bcd\\u0ba4\\u0bae\\u0bcd\\u201d \\u0b87\\u0ba8\\u0bcd\\u0ba4\\u0bbf\\u0baf\\u0bbe \\u0bae\\u0bc1\\u0bb4\\u0bc1\\u0bae\\u0bc8\\u0b95\\u0bcd\\u0b95\\u0bc1\\u0bae\\u0bcd \\u0baa\\u0bb0\\u0bb5\\u0b9f\\u0bcd\\u0b9f\\u0bc1\\u0bae\\u0bcd!\\n\\n#RahulGandhi2024 #RahulGandhiHopeOfIndia \\n#DravidianModel \\n#DMK\",\n          \" \\u0bb5\\u0bc7\\u0b9f\\u0bcd\\u0baa\\u0bbe\\u0bb3\\u0bb0\\u0bcd\\u0b95\\u0bbf\\u0b9f\\u0bcd\\u0b9f \\u0b95\\u0bbe\\u0b9a\\u0bc1 \\u0bb5\\u0bbe\\u0b99\\u0bcd\\u0b95\\u0bbf\\u0b9f\\u0bcd\\u0b9f\\u0bc1 \\u0b95\\u0bc1\\u0b9f\\u0bbf\\u0b9a\\u0bcd\\u0b9a\\u0bbf\\u0b9f\\u0bcd\\u0b9f\\u0bc1 \\u0b89\\u0bb3\\u0bb1\\u0bbf\\u0b95\\u0bbf\\u0b9f\\u0bcd\\u0b9f\\u0bc1\\u0b95\\u0bbf\\u0b9f\\u0b95\\u0bcd\\u0b95\\u0bbf\\u0bb1\\u0bbe\\u0ba9\\u0bcd..\\n#Seeman\",\n          \"\\u0baa\\u0bc7\\u0b9a\\u0bc1\\u0bae\\u0bcd \\u0baa\\u0b9f\\u0bae\\u0bcd #DMKFailsTN\"\n        ],\n        \"semantic_type\": \"\",\n        \"description\": \"\"\n      }\n    },\n    {\n      \"column\": \"labels\",\n      \"properties\": {\n        \"dtype\": \"category\",\n        \"num_unique_values\": 7,\n        \"samples\": [\n          \"Neutral\",\n          \"Substantiated\",\n          \"Negative\"\n        ],\n        \"semantic_type\": \"\",\n        \"description\": \"\"\n      }\n    }\n  ]\n}"
            }
          },
          "metadata": {},
          "execution_count": 6
        }
      ]
    },
    {
      "cell_type": "code",
      "source": [
        "# data_train['labels'].value_counts()"
      ],
      "metadata": {
        "id": "mrAMO1Yt0l1P"
      },
      "execution_count": 7,
      "outputs": []
    },
    {
      "cell_type": "code",
      "source": [
        "# data_test['labels'].value_counts()"
      ],
      "metadata": {
        "id": "VlB-LyY43n_R"
      },
      "execution_count": 8,
      "outputs": []
    },
    {
      "cell_type": "code",
      "source": [
        "data_train['clean'] = data_train['content'].apply(lambda x:clean_text(x))\n",
        "data_test['clean'] = data_test['content'].apply(lambda x:clean_text(x))\n"
      ],
      "metadata": {
        "id": "dQS3zXMR0zxo"
      },
      "execution_count": 9,
      "outputs": []
    },
    {
      "source": [
        "# !pip install tensorflow\n",
        "from tensorflow.keras.preprocessing.text import Tokenizer\n",
        "from tensorflow.keras.preprocessing.sequence import pad_sequences\n",
        "\n",
        "vocabulary_size = 30000  #\n",
        "tokenizer = Tokenizer(num_words= vocabulary_size)\n",
        "tokenizer.fit_on_texts(X_train)\n",
        "sequences = tokenizer.texts_to_sequences(X_train)\n",
        "X_train1 = pad_sequences(sequences, maxlen=100)\n",
        "sequences = tokenizer.texts_to_sequences(X_test)\n",
        "X_test1 = pad_sequences(sequences, maxlen=100)"
      ],
      "cell_type": "code",
      "metadata": {
        "collapsed": true,
        "id": "m5bAJaBg55Qa"
      },
      "execution_count": 11,
      "outputs": []
    },
    {
      "source": [
        "# this is for label handling, encoding the label\n",
        "#y_train = y_train['Label']  # Remove this line\n",
        "#y_test = y_test['Label']   # Remove this line\n",
        "y = pd.get_dummies(y_train).values\n",
        "\n",
        "y_train1 = pd.get_dummies(y_train).values\n",
        "y_test1 = pd.get_dummies(y_test).values\n",
        "diz_label1 = {}\n",
        "for i,label in enumerate(data_train.labels.factorize()[1]):\n",
        "    diz_label1[i] = label\n",
        "\n",
        "diz_label1"
      ],
      "cell_type": "code",
      "metadata": {
        "colab": {
          "base_uri": "https://localhost:8080/"
        },
        "id": "T_2mcKNh7HaK",
        "outputId": "6380c998-87fd-4285-e9a4-6fbb0a66cffe"
      },
      "execution_count": 28,
      "outputs": [
        {
          "output_type": "execute_result",
          "data": {
            "text/plain": [
              "{0: 'Neutral',\n",
              " 1: 'Substantiated',\n",
              " 2: 'Opinionated',\n",
              " 3: 'Positive',\n",
              " 4: 'Sarcastic',\n",
              " 5: 'Negative',\n",
              " 6: 'None of the above'}"
            ]
          },
          "metadata": {},
          "execution_count": 28
        }
      ]
    },
    {
      "source": [
        "# y_train_encoded = label_encoder.fit_transform(y_train)\n",
        "# y_test_encoded = label_encoder.transform(y_test)"
      ],
      "cell_type": "code",
      "metadata": {
        "id": "DAHCDoni4QBu"
      },
      "execution_count": 16,
      "outputs": []
    },
    {
      "cell_type": "code",
      "source": [
        "embeddings_index = {}\n",
        "with open(\"/content/drive/MyDrive/icon_task_2020/wiki.ta.vec\",encoding=\"utf8\") as f:\n",
        "    for line in f:\n",
        "        word, coefs = line.split(maxsplit=1)\n",
        "        coefs = np.fromstring(coefs, \"f\", sep=\" \")\n",
        "        embeddings_index[word] = coefs\n",
        "\n",
        "print(\"Found %s word vectors.\" % len(embeddings_index))"
      ],
      "metadata": {
        "colab": {
          "base_uri": "https://localhost:8080/"
        },
        "id": "ZVcqGMKW7Mcz",
        "outputId": "ac593661-df88-4c7b-88ae-051afac4d538"
      },
      "execution_count": 12,
      "outputs": [
        {
          "output_type": "stream",
          "name": "stderr",
          "text": [
            "<ipython-input-12-1756e0f1f4bb>:5: DeprecationWarning: string or file could not be read to its end due to unmatched data; this will raise a ValueError in the future.\n",
            "  coefs = np.fromstring(coefs, \"f\", sep=\" \")\n"
          ]
        },
        {
          "output_type": "stream",
          "name": "stdout",
          "text": [
            "Found 245374 word vectors.\n"
          ]
        }
      ]
    },
    {
      "cell_type": "code",
      "source": [
        "VOCAB_SIZE = len(tokenizer.word_index) + 2\n",
        "EMBEDDING_DIM = 300\n",
        "hits = 0\n",
        "misses =0\n",
        "\n",
        "# Prepare embedding matrix\n",
        "embedding_matrix = np.zeros((VOCAB_SIZE, EMBEDDING_DIM))\n",
        "for word, i in tokenizer.word_index.items():\n",
        "    embedding_vector = embeddings_index.get(word)\n",
        "    if embedding_vector is not None:\n",
        "        embedding_matrix[i] = embedding_vector\n",
        "        hits += 1\n",
        "    else:\n",
        "        # Words not found in embedding index will be all-zeros.\n",
        "        # This includes the representation for \"padding\" and \"OOV\"\n",
        "        misses += 1\n",
        "\n",
        "print(\"Converted %d words (%d misses)\" % (hits, misses))"
      ],
      "metadata": {
        "colab": {
          "base_uri": "https://localhost:8080/"
        },
        "id": "j8WFSa2m7Qgn",
        "outputId": "2b83a61a-b157-48a2-bbeb-bfb61e2b94a2"
      },
      "execution_count": 13,
      "outputs": [
        {
          "output_type": "stream",
          "name": "stdout",
          "text": [
            "Converted 9082 words (8529 misses)\n"
          ]
        }
      ]
    },
    {
      "source": [
        "import pandas as pd\n",
        "import numpy as np\n",
        "\n",
        "from tensorflow.keras.callbacks import EarlyStopping\n",
        "\n",
        "# Create an EarlyStopping object\n",
        "early_stopping = EarlyStopping(\n",
        "    monitor='val_loss',\n",
        "    patience=3,\n",
        "    restore_best_weights=True\n",
        ")\n",
        "\n",
        "# ... (your existing code for defining model1) ...\n",
        "\n",
        "# Compile the model\n",
        "# model.compile(loss='categorical_crossentropy', optimizer='adam', metrics=['accuracy'])\n",
        "\n",
        "# Fit the model with early stopping\n",
        "\n",
        "\n"
      ],
      "cell_type": "code",
      "metadata": {
        "id": "OdrJ4jo4s8_W"
      },
      "execution_count": 30,
      "outputs": []
    },
    {
      "cell_type": "code",
      "source": [],
      "metadata": {
        "id": "kdcOD_c_Wq5v"
      },
      "execution_count": null,
      "outputs": []
    },
    {
      "cell_type": "markdown",
      "source": [
        "**Hybrid Model**: Hybrid models in machine learning combine different types of models to leverage their strengths and improve overall performance."
      ],
      "metadata": {
        "id": "HzoKZ9ZGWrZH"
      }
    },
    {
      "cell_type": "code",
      "source": [],
      "metadata": {
        "id": "BbOltkooMWMa"
      },
      "execution_count": null,
      "outputs": []
    },
    {
      "source": [
        "from tensorflow.keras.models import Sequential\n",
        "from tensorflow.keras.layers import Embedding, LSTM, GRU, Dropout, Flatten, Dense\n",
        "\n",
        "model2 = Sequential()\n",
        "model2.add(Embedding(VOCAB_SIZE, EMBEDDING_DIM, weights=[embedding_matrix], trainable=True))\n",
        "model2.add(LSTM(128, return_sequences=True))  #LSTM layer with return_sequences=True\n",
        "model2.add(GRU(64))  #GRU layer after LSTM\n",
        "model2.add(Dropout(0.2))\n",
        "model2.add(Dense(64, activation='relu'))\n",
        "model2.add(Dropout(0.2))\n",
        "model2.add(Dense(7, activation='softmax'))  #Assuming 5 output classes"
      ],
      "cell_type": "code",
      "metadata": {
        "id": "uwZrdlmosztx"
      },
      "execution_count": 44,
      "outputs": []
    },
    {
      "cell_type": "code",
      "source": [
        "model2.compile(loss='categorical_crossentropy', optimizer='adam', metrics=['accuracy'])\n",
        "model2.fit(X_train1, y_train1, epochs=100, batch_size=64, validation_data=(X_test1, y_test1),callbacks=[early_stopping] )\n",
        "pred2 = model2.predict(X_test1)\n",
        "print(classification_report(np.argmax(y_test1,axis=1),np.argmax(pred2,axis=1)))"
      ],
      "metadata": {
        "id": "jbXJL0ass6y2",
        "colab": {
          "base_uri": "https://localhost:8080/"
        },
        "outputId": "4f581258-47f5-4abb-e642-8e89f44e2d9d"
      },
      "execution_count": 45,
      "outputs": [
        {
          "output_type": "stream",
          "name": "stdout",
          "text": [
            "Epoch 1/100\n",
            "\u001b[1m68/68\u001b[0m \u001b[32m━━━━━━━━━━━━━━━━━━━━\u001b[0m\u001b[37m\u001b[0m \u001b[1m4s\u001b[0m 25ms/step - accuracy: 0.2780 - loss: 1.8365 - val_accuracy: 0.2941 - val_loss: 1.7418\n",
            "Epoch 2/100\n",
            "\u001b[1m68/68\u001b[0m \u001b[32m━━━━━━━━━━━━━━━━━━━━\u001b[0m\u001b[37m\u001b[0m \u001b[1m1s\u001b[0m 19ms/step - accuracy: 0.3567 - loss: 1.6769 - val_accuracy: 0.3180 - val_loss: 1.6851\n",
            "Epoch 3/100\n",
            "\u001b[1m68/68\u001b[0m \u001b[32m━━━━━━━━━━━━━━━━━━━━\u001b[0m\u001b[37m\u001b[0m \u001b[1m2s\u001b[0m 17ms/step - accuracy: 0.4464 - loss: 1.4609 - val_accuracy: 0.2923 - val_loss: 1.8269\n",
            "Epoch 4/100\n",
            "\u001b[1m68/68\u001b[0m \u001b[32m━━━━━━━━━━━━━━━━━━━━\u001b[0m\u001b[37m\u001b[0m \u001b[1m2s\u001b[0m 21ms/step - accuracy: 0.5837 - loss: 1.0861 - val_accuracy: 0.2886 - val_loss: 1.8992\n",
            "Epoch 5/100\n",
            "\u001b[1m68/68\u001b[0m \u001b[32m━━━━━━━━━━━━━━━━━━━━\u001b[0m\u001b[37m\u001b[0m \u001b[1m2s\u001b[0m 18ms/step - accuracy: 0.6655 - loss: 0.8676 - val_accuracy: 0.2702 - val_loss: 2.1837\n",
            "\u001b[1m17/17\u001b[0m \u001b[32m━━━━━━━━━━━━━━━━━━━━\u001b[0m\u001b[37m\u001b[0m \u001b[1m0s\u001b[0m 5ms/step\n",
            "              precision    recall  f1-score   support\n",
            "\n",
            "           0       0.00      0.00      0.00        51\n",
            "           1       0.19      0.08      0.12        84\n",
            "           2       0.33      0.95      0.49        20\n",
            "           3       0.37      0.52      0.43       153\n",
            "           4       0.21      0.19      0.20        69\n",
            "           5       0.31      0.48      0.38       115\n",
            "           6       0.00      0.00      0.00        52\n",
            "\n",
            "    accuracy                           0.32       544\n",
            "   macro avg       0.20      0.32      0.23       544\n",
            "weighted avg       0.24      0.32      0.26       544\n",
            "\n"
          ]
        },
        {
          "output_type": "stream",
          "name": "stderr",
          "text": [
            "/usr/local/lib/python3.11/dist-packages/sklearn/metrics/_classification.py:1565: UndefinedMetricWarning: Precision is ill-defined and being set to 0.0 in labels with no predicted samples. Use `zero_division` parameter to control this behavior.\n",
            "  _warn_prf(average, modifier, f\"{metric.capitalize()} is\", len(result))\n",
            "/usr/local/lib/python3.11/dist-packages/sklearn/metrics/_classification.py:1565: UndefinedMetricWarning: Precision is ill-defined and being set to 0.0 in labels with no predicted samples. Use `zero_division` parameter to control this behavior.\n",
            "  _warn_prf(average, modifier, f\"{metric.capitalize()} is\", len(result))\n",
            "/usr/local/lib/python3.11/dist-packages/sklearn/metrics/_classification.py:1565: UndefinedMetricWarning: Precision is ill-defined and being set to 0.0 in labels with no predicted samples. Use `zero_division` parameter to control this behavior.\n",
            "  _warn_prf(average, modifier, f\"{metric.capitalize()} is\", len(result))\n"
          ]
        }
      ]
    },
    {
      "cell_type": "markdown",
      "source": [
        "**CNN+GRU Hybrid**"
      ],
      "metadata": {
        "id": "PykgDjgwMYd_"
      }
    },
    {
      "source": [
        "model3 = Sequential()\n",
        "model3.add(Embedding(VOCAB_SIZE, EMBEDDING_DIM, weights=[embedding_matrix], input_length=100, trainable=False))\n",
        "model3.add(Conv1D(filters=128, kernel_size=5, activation='relu'))\n",
        "model3.add(MaxPooling1D(pool_size=2))\n",
        "model3.add(GRU(128))\n",
        "model3.add(Dropout(0.2))  # Add dropout for regularization\n",
        "model3.add(Dense(7, activation='softmax'))  # Assuming binary classification\n",
        "\n"
      ],
      "cell_type": "code",
      "metadata": {
        "id": "X8dQuTrn7h3h",
        "colab": {
          "base_uri": "https://localhost:8080/"
        },
        "outputId": "ab83e979-3a85-41fd-a4f0-55240b82969c"
      },
      "execution_count": 26,
      "outputs": [
        {
          "output_type": "stream",
          "name": "stderr",
          "text": [
            "/usr/local/lib/python3.11/dist-packages/keras/src/layers/core/embedding.py:90: UserWarning: Argument `input_length` is deprecated. Just remove it.\n",
            "  warnings.warn(\n"
          ]
        }
      ]
    },
    {
      "cell_type": "code",
      "source": [
        "model3.compile(loss='categorical_crossentropy', optimizer='adam', metrics=['accuracy'])\n",
        "model3.fit(\n",
        "    X_train1,\n",
        "    y_train1,\n",
        "    epochs=10,\n",
        "    batch_size=64,\n",
        "    validation_data=(X_test1, y_test1),\n",
        "    callbacks=[early_stopping]\n",
        ")"
      ],
      "metadata": {
        "colab": {
          "base_uri": "https://localhost:8080/"
        },
        "id": "webI2VjU5Wwh",
        "outputId": "2537707d-0332-471c-bbac-21974f1d9227"
      },
      "execution_count": 32,
      "outputs": [
        {
          "output_type": "stream",
          "name": "stdout",
          "text": [
            "Epoch 1/10\n",
            "\u001b[1m68/68\u001b[0m \u001b[32m━━━━━━━━━━━━━━━━━━━━\u001b[0m\u001b[37m\u001b[0m \u001b[1m10s\u001b[0m 22ms/step - accuracy: 0.2975 - loss: 1.8083 - val_accuracy: 0.2941 - val_loss: 1.7177\n",
            "Epoch 2/10\n",
            "\u001b[1m68/68\u001b[0m \u001b[32m━━━━━━━━━━━━━━━━━━━━\u001b[0m\u001b[37m\u001b[0m \u001b[1m1s\u001b[0m 13ms/step - accuracy: 0.3708 - loss: 1.6223 - val_accuracy: 0.3051 - val_loss: 1.6915\n",
            "Epoch 3/10\n",
            "\u001b[1m68/68\u001b[0m \u001b[32m━━━━━━━━━━━━━━━━━━━━\u001b[0m\u001b[37m\u001b[0m \u001b[1m1s\u001b[0m 12ms/step - accuracy: 0.4414 - loss: 1.4616 - val_accuracy: 0.3015 - val_loss: 1.7185\n",
            "Epoch 4/10\n",
            "\u001b[1m68/68\u001b[0m \u001b[32m━━━━━━━━━━━━━━━━━━━━\u001b[0m\u001b[37m\u001b[0m \u001b[1m1s\u001b[0m 18ms/step - accuracy: 0.5291 - loss: 1.2749 - val_accuracy: 0.2739 - val_loss: 1.8386\n",
            "Epoch 5/10\n",
            "\u001b[1m68/68\u001b[0m \u001b[32m━━━━━━━━━━━━━━━━━━━━\u001b[0m\u001b[37m\u001b[0m \u001b[1m1s\u001b[0m 14ms/step - accuracy: 0.6528 - loss: 1.0135 - val_accuracy: 0.2886 - val_loss: 1.9940\n"
          ]
        },
        {
          "output_type": "execute_result",
          "data": {
            "text/plain": [
              "<keras.src.callbacks.history.History at 0x78319aa57090>"
            ]
          },
          "metadata": {},
          "execution_count": 32
        }
      ]
    },
    {
      "cell_type": "code",
      "source": [
        "y_pred = model.predict(X_test1)\n"
      ],
      "metadata": {
        "id": "KRB__trOOqin",
        "colab": {
          "base_uri": "https://localhost:8080/"
        },
        "outputId": "e2514e42-c705-417f-cde6-9c74e483fb46"
      },
      "execution_count": 33,
      "outputs": [
        {
          "output_type": "stream",
          "name": "stdout",
          "text": [
            "\u001b[1m17/17\u001b[0m \u001b[32m━━━━━━━━━━━━━━━━━━━━\u001b[0m\u001b[37m\u001b[0m \u001b[1m1s\u001b[0m 6ms/step\n"
          ]
        }
      ]
    },
    {
      "source": [
        "y_pred = model3.predict(X_test1)  # Predict using model3, not 'model'\n",
        "y_pred_classes = np.argmax(y_pred, axis=1)  # Get predicted class labels\n",
        "\n",
        "# Now use y_pred_classes in the classification_report\n",
        "print(classification_report(y_test1.argmax(axis=1), y_pred_classes))"
      ],
      "cell_type": "code",
      "metadata": {
        "colab": {
          "base_uri": "https://localhost:8080/"
        },
        "id": "KiOPAmUAM17s",
        "outputId": "531fc49e-f268-49bc-cc3a-cdfb65d422fe"
      },
      "execution_count": 36,
      "outputs": [
        {
          "output_type": "stream",
          "name": "stdout",
          "text": [
            "\u001b[1m17/17\u001b[0m \u001b[32m━━━━━━━━━━━━━━━━━━━━\u001b[0m\u001b[37m\u001b[0m \u001b[1m0s\u001b[0m 8ms/step\n",
            "              precision    recall  f1-score   support\n",
            "\n",
            "           0       0.00      0.00      0.00        51\n",
            "           1       0.29      0.06      0.10        84\n",
            "           2       0.40      0.85      0.54        20\n",
            "           3       0.30      0.82      0.44       153\n",
            "           4       0.31      0.07      0.12        69\n",
            "           5       0.24      0.10      0.14       115\n",
            "           6       1.00      0.04      0.07        52\n",
            "\n",
            "    accuracy                           0.31       544\n",
            "   macro avg       0.36      0.28      0.20       544\n",
            "weighted avg       0.33      0.31      0.21       544\n",
            "\n"
          ]
        },
        {
          "output_type": "stream",
          "name": "stderr",
          "text": [
            "/usr/local/lib/python3.11/dist-packages/sklearn/metrics/_classification.py:1565: UndefinedMetricWarning: Precision is ill-defined and being set to 0.0 in labels with no predicted samples. Use `zero_division` parameter to control this behavior.\n",
            "  _warn_prf(average, modifier, f\"{metric.capitalize()} is\", len(result))\n",
            "/usr/local/lib/python3.11/dist-packages/sklearn/metrics/_classification.py:1565: UndefinedMetricWarning: Precision is ill-defined and being set to 0.0 in labels with no predicted samples. Use `zero_division` parameter to control this behavior.\n",
            "  _warn_prf(average, modifier, f\"{metric.capitalize()} is\", len(result))\n",
            "/usr/local/lib/python3.11/dist-packages/sklearn/metrics/_classification.py:1565: UndefinedMetricWarning: Precision is ill-defined and being set to 0.0 in labels with no predicted samples. Use `zero_division` parameter to control this behavior.\n",
            "  _warn_prf(average, modifier, f\"{metric.capitalize()} is\", len(result))\n"
          ]
        }
      ]
    },
    {
      "cell_type": "markdown",
      "source": [
        "**LSTM**"
      ],
      "metadata": {
        "id": "WW3AyDdhM5St"
      }
    },
    {
      "source": [
        "from tensorflow.keras.models import Sequential\n",
        "from tensorflow.keras.layers import Embedding, LSTM, Dropout, Flatten, Dense\n",
        "model1 = Sequential()\n",
        "model1.add(Embedding(VOCAB_SIZE, EMBEDDING_DIM, weights=[embedding_matrix], trainable=True))\n",
        "model1.add(LSTM(128, return_sequences=True))  # LSTM layer with return_sequences=True\n",
        "model1.add(Dropout(0.2))\n",
        "model1.add(Flatten())\n",
        "model1.add(Dense(64, activation='relu'))\n",
        "model1.add(Dropout(0.2))\n",
        "model1.add(Dense(7, activation='softmax'))\n",
        "\n",
        "model1.compile(loss='categorical_crossentropy', optimizer='adam', metrics=['accuracy'])\n",
        "\n",
        "\n",
        "\n",
        "model1.fit(X_train1, y_train1, epochs=10, batch_size=64, validation_data=(X_test1, y_test1,),callbacks=[early_stopping] )\n",
        "\n",
        "\n",
        "\n"
      ],
      "cell_type": "code",
      "metadata": {
        "colab": {
          "base_uri": "https://localhost:8080/"
        },
        "id": "r9CBjllJNPWz",
        "outputId": "022c9002-7473-4cd6-f8bc-939ef5a06f1f"
      },
      "execution_count": 39,
      "outputs": [
        {
          "output_type": "stream",
          "name": "stdout",
          "text": [
            "Epoch 1/10\n",
            "\u001b[1m68/68\u001b[0m \u001b[32m━━━━━━━━━━━━━━━━━━━━\u001b[0m\u001b[37m\u001b[0m \u001b[1m6s\u001b[0m 32ms/step - accuracy: 0.2852 - loss: 1.8200 - val_accuracy: 0.2831 - val_loss: 1.7434\n",
            "Epoch 2/10\n",
            "\u001b[1m68/68\u001b[0m \u001b[32m━━━━━━━━━━━━━━━━━━━━\u001b[0m\u001b[37m\u001b[0m \u001b[1m1s\u001b[0m 18ms/step - accuracy: 0.3948 - loss: 1.5903 - val_accuracy: 0.2886 - val_loss: 1.7370\n",
            "Epoch 3/10\n",
            "\u001b[1m68/68\u001b[0m \u001b[32m━━━━━━━━━━━━━━━━━━━━\u001b[0m\u001b[37m\u001b[0m \u001b[1m3s\u001b[0m 21ms/step - accuracy: 0.5283 - loss: 1.2761 - val_accuracy: 0.3107 - val_loss: 1.8875\n",
            "Epoch 4/10\n",
            "\u001b[1m68/68\u001b[0m \u001b[32m━━━━━━━━━━━━━━━━━━━━\u001b[0m\u001b[37m\u001b[0m \u001b[1m1s\u001b[0m 18ms/step - accuracy: 0.6964 - loss: 0.8619 - val_accuracy: 0.2960 - val_loss: 2.1572\n",
            "Epoch 5/10\n",
            "\u001b[1m68/68\u001b[0m \u001b[32m━━━━━━━━━━━━━━━━━━━━\u001b[0m\u001b[37m\u001b[0m \u001b[1m2s\u001b[0m 14ms/step - accuracy: 0.8271 - loss: 0.5355 - val_accuracy: 0.2960 - val_loss: 2.4064\n",
            "\u001b[1m17/17\u001b[0m \u001b[32m━━━━━━━━━━━━━━━━━━━━\u001b[0m\u001b[37m\u001b[0m \u001b[1m0s\u001b[0m 3ms/step  \n"
          ]
        }
      ]
    },
    {
      "cell_type": "code",
      "source": [
        "pred1 = model1.predict(X_test1)\n",
        "y_pred_classes = np.argmax(pred1, axis=1)  # Get predicted class labels\n",
        "\n",
        "print(classification_report(np.argmax(y_test1,axis=1),y_pred_classes))"
      ],
      "metadata": {
        "colab": {
          "base_uri": "https://localhost:8080/"
        },
        "id": "YNyD4yTuNjey",
        "outputId": "98909e4e-30d7-4786-b71e-478b776e1808"
      },
      "execution_count": 43,
      "outputs": [
        {
          "output_type": "stream",
          "name": "stdout",
          "text": [
            "\u001b[1m17/17\u001b[0m \u001b[32m━━━━━━━━━━━━━━━━━━━━\u001b[0m\u001b[37m\u001b[0m \u001b[1m0s\u001b[0m 10ms/step\n",
            "              precision    recall  f1-score   support\n",
            "\n",
            "           0       0.14      0.18      0.15        51\n",
            "           1       0.18      0.27      0.22        84\n",
            "           2       0.39      0.80      0.52        20\n",
            "           3       0.42      0.38      0.40       153\n",
            "           4       0.18      0.19      0.19        69\n",
            "           5       0.37      0.33      0.35       115\n",
            "           6       0.00      0.00      0.00        52\n",
            "\n",
            "    accuracy                           0.29       544\n",
            "   macro avg       0.24      0.31      0.26       544\n",
            "weighted avg       0.28      0.29      0.28       544\n",
            "\n"
          ]
        },
        {
          "output_type": "stream",
          "name": "stderr",
          "text": [
            "/usr/local/lib/python3.11/dist-packages/sklearn/metrics/_classification.py:1565: UndefinedMetricWarning: Precision is ill-defined and being set to 0.0 in labels with no predicted samples. Use `zero_division` parameter to control this behavior.\n",
            "  _warn_prf(average, modifier, f\"{metric.capitalize()} is\", len(result))\n",
            "/usr/local/lib/python3.11/dist-packages/sklearn/metrics/_classification.py:1565: UndefinedMetricWarning: Precision is ill-defined and being set to 0.0 in labels with no predicted samples. Use `zero_division` parameter to control this behavior.\n",
            "  _warn_prf(average, modifier, f\"{metric.capitalize()} is\", len(result))\n",
            "/usr/local/lib/python3.11/dist-packages/sklearn/metrics/_classification.py:1565: UndefinedMetricWarning: Precision is ill-defined and being set to 0.0 in labels with no predicted samples. Use `zero_division` parameter to control this behavior.\n",
            "  _warn_prf(average, modifier, f\"{metric.capitalize()} is\", len(result))\n"
          ]
        }
      ]
    },
    {
      "cell_type": "markdown",
      "source": [
        "**Meta models:Combine Predictions from Base Models**"
      ],
      "metadata": {
        "id": "TqENc_h6Ol5U"
      }
    },
    {
      "cell_type": "code",
      "source": [
        "from sklearn.tree import DecisionTreeClassifier  # Import DecisionTreeClassifier\n",
        "\n",
        "stacked_predictions = np.column_stack((pred1, pred2,y_pred))#,final_predictions_rm)) # final_predictions))\n",
        "\n",
        "meta_model2 = DecisionTreeClassifier(random_state=42)  # Create Decision Tree instance\n",
        "meta_model2.fit(stacked_predictions, np.argmax(y_test1, axis=1))\n",
        "\n",
        "final_predictions_dt = meta_model2.predict(stacked_predictions)\n",
        "print(classification_report(np.argmax(y_test1, axis=1), final_predictions_dt))"
      ],
      "metadata": {
        "colab": {
          "base_uri": "https://localhost:8080/"
        },
        "id": "WbCJezvkOlRM",
        "outputId": "3c73a0f2-3408-44d9-a457-c28520b53e4f"
      },
      "execution_count": 63,
      "outputs": [
        {
          "output_type": "stream",
          "name": "stdout",
          "text": [
            "              precision    recall  f1-score   support\n",
            "\n",
            "           0       0.96      1.00      0.98        51\n",
            "           1       0.97      0.99      0.98        84\n",
            "           2       1.00      1.00      1.00        20\n",
            "           3       1.00      0.99      0.99       153\n",
            "           4       0.99      1.00      0.99        69\n",
            "           5       1.00      0.98      0.99       115\n",
            "           6       1.00      0.98      0.99        52\n",
            "\n",
            "    accuracy                           0.99       544\n",
            "   macro avg       0.99      0.99      0.99       544\n",
            "weighted avg       0.99      0.99      0.99       544\n",
            "\n"
          ]
        }
      ]
    },
    {
      "cell_type": "code",
      "source": [
        "\n",
        "from sklearn.ensemble import RandomForestClassifier\n",
        "meta_model1 = RandomForestClassifier(n_estimators=1000, random_state=45)\n",
        "stacked_predictions = np.column_stack((pred1, pred2,y_pred))#,final_predictions_rm)) # final_predictions))\n",
        "\n",
        "meta_model1.fit(stacked_predictions, np.argmax(y_test1, axis=1))\n",
        "\n",
        "# Make final predictions\n",
        "final_predictions_rm = meta_model1.predict(stacked_predictions)\n",
        "print(classification_report(np.argmax(y_test1, axis=1), final_predictions_rm))"
      ],
      "metadata": {
        "colab": {
          "base_uri": "https://localhost:8080/"
        },
        "id": "4cZTwN6jPTw5",
        "outputId": "14cd4c98-3d7e-4d29-f829-565ee29f93a1"
      },
      "execution_count": 83,
      "outputs": [
        {
          "output_type": "stream",
          "name": "stdout",
          "text": [
            "              precision    recall  f1-score   support\n",
            "\n",
            "           0       1.00      0.98      0.99        51\n",
            "           1       0.98      0.98      0.98        84\n",
            "           2       1.00      1.00      1.00        20\n",
            "           3       0.98      1.00      0.99       153\n",
            "           4       0.99      1.00      0.99        69\n",
            "           5       1.00      0.98      0.99       115\n",
            "           6       1.00      0.98      0.99        52\n",
            "\n",
            "    accuracy                           0.99       544\n",
            "   macro avg       0.99      0.99      0.99       544\n",
            "weighted avg       0.99      0.99      0.99       544\n",
            "\n"
          ]
        }
      ]
    },
    {
      "cell_type": "code",
      "source": [
        "from sklearn.linear_model import LogisticRegression\n",
        "meta_model3 = LogisticRegression()  # Adjust parameters as needed\n",
        "stacked_predictions = np.column_stack((pred1, pred2,y_pred))#,final_predictions_rm)) # final_predictions))\n",
        "\n",
        "meta_model3.fit(stacked_predictions, np.argmax(y_test1, axis=1))  # y_train1: true labels\n",
        "\n",
        "\n",
        "# Make final predictions\n",
        "final_predictions_lr = meta_model3.predict(stacked_predictions)\n",
        "print(classification_report(np.argmax(y_test1, axis=1), final_predictions_lr))"
      ],
      "metadata": {
        "colab": {
          "base_uri": "https://localhost:8080/"
        },
        "id": "duQcWvTdMiJ-",
        "outputId": "cc5c10d4-8b1c-490b-bca2-0da0ad447c18"
      },
      "execution_count": 85,
      "outputs": [
        {
          "output_type": "stream",
          "name": "stdout",
          "text": [
            "              precision    recall  f1-score   support\n",
            "\n",
            "           0       0.00      0.00      0.00        51\n",
            "           1       0.18      0.06      0.09        84\n",
            "           2       0.68      0.75      0.71        20\n",
            "           3       0.31      0.78      0.44       153\n",
            "           4       0.14      0.03      0.05        69\n",
            "           5       0.40      0.34      0.37       115\n",
            "           6       0.00      0.00      0.00        52\n",
            "\n",
            "    accuracy                           0.33       544\n",
            "   macro avg       0.25      0.28      0.24       544\n",
            "weighted avg       0.24      0.33      0.25       544\n",
            "\n"
          ]
        },
        {
          "output_type": "stream",
          "name": "stderr",
          "text": [
            "/usr/local/lib/python3.11/dist-packages/sklearn/metrics/_classification.py:1565: UndefinedMetricWarning: Precision is ill-defined and being set to 0.0 in labels with no predicted samples. Use `zero_division` parameter to control this behavior.\n",
            "  _warn_prf(average, modifier, f\"{metric.capitalize()} is\", len(result))\n",
            "/usr/local/lib/python3.11/dist-packages/sklearn/metrics/_classification.py:1565: UndefinedMetricWarning: Precision is ill-defined and being set to 0.0 in labels with no predicted samples. Use `zero_division` parameter to control this behavior.\n",
            "  _warn_prf(average, modifier, f\"{metric.capitalize()} is\", len(result))\n",
            "/usr/local/lib/python3.11/dist-packages/sklearn/metrics/_classification.py:1565: UndefinedMetricWarning: Precision is ill-defined and being set to 0.0 in labels with no predicted samples. Use `zero_division` parameter to control this behavior.\n",
            "  _warn_prf(average, modifier, f\"{metric.capitalize()} is\", len(result))\n"
          ]
        }
      ]
    },
    {
      "cell_type": "code",
      "source": [],
      "metadata": {
        "id": "wm1tgRG-Miff"
      },
      "execution_count": null,
      "outputs": []
    },
    {
      "cell_type": "code",
      "source": [],
      "metadata": {
        "id": "xJjS9orXMiiP"
      },
      "execution_count": null,
      "outputs": []
    },
    {
      "cell_type": "markdown",
      "source": [
        "**Load the Original Test Data**"
      ],
      "metadata": {
        "id": "GhXfWKSaJHjx"
      }
    },
    {
      "cell_type": "code",
      "source": [
        "test = pd.read_csv(\"/content/drive/MyDrive/PS_test_without_lables.csv\")\n",
        "test.head()\n",
        "# X_train= data_train['clean']\n",
        "# X_test= data_test['clean']\n",
        "# y_train= data_train['labels']\n",
        "# y_test= data_test['labels']"
      ],
      "metadata": {
        "colab": {
          "base_uri": "https://localhost:8080/",
          "height": 206
        },
        "id": "z0MGWMvFLhno",
        "outputId": "b4038c82-3673-45c3-a4c2-3f54dc0ee365"
      },
      "execution_count": 54,
      "outputs": [
        {
          "output_type": "execute_result",
          "data": {
            "text/plain": [
              "      Id                                            content\n",
              "0  PS_01  இஸ்லாமிய சகோதரர்களுடன் ரமலான் கொண்டாடிய அதிமுக...\n",
              "1  PS_02  \\nஓபிஎஸ் - எடப்பாடி போட்டா போட்டி! திடீரென பணி...\n",
              "2  PS_03  இன்றைய பரப்புரை:\\n\\nநாம் தமிழர் கட்சி தலைமை ஒர...\n",
              "3  PS_04  🇰🇬🎙️ இன்னும் 05 ஏ நாளில், வெல்வோம் தமிழராய் - ...\n",
              "4  PS_05  டாஸ்மாக்ல மட்டும்தான் கருணாநிதி அவர்களின்  பெய..."
            ],
            "text/html": [
              "\n",
              "  <div id=\"df-cafacf79-00b8-4fc4-aeeb-3945bff25daa\" class=\"colab-df-container\">\n",
              "    <div>\n",
              "<style scoped>\n",
              "    .dataframe tbody tr th:only-of-type {\n",
              "        vertical-align: middle;\n",
              "    }\n",
              "\n",
              "    .dataframe tbody tr th {\n",
              "        vertical-align: top;\n",
              "    }\n",
              "\n",
              "    .dataframe thead th {\n",
              "        text-align: right;\n",
              "    }\n",
              "</style>\n",
              "<table border=\"1\" class=\"dataframe\">\n",
              "  <thead>\n",
              "    <tr style=\"text-align: right;\">\n",
              "      <th></th>\n",
              "      <th>Id</th>\n",
              "      <th>content</th>\n",
              "    </tr>\n",
              "  </thead>\n",
              "  <tbody>\n",
              "    <tr>\n",
              "      <th>0</th>\n",
              "      <td>PS_01</td>\n",
              "      <td>இஸ்லாமிய சகோதரர்களுடன் ரமலான் கொண்டாடிய அதிமுக...</td>\n",
              "    </tr>\n",
              "    <tr>\n",
              "      <th>1</th>\n",
              "      <td>PS_02</td>\n",
              "      <td>\\nஓபிஎஸ் - எடப்பாடி போட்டா போட்டி! திடீரென பணி...</td>\n",
              "    </tr>\n",
              "    <tr>\n",
              "      <th>2</th>\n",
              "      <td>PS_03</td>\n",
              "      <td>இன்றைய பரப்புரை:\\n\\nநாம் தமிழர் கட்சி தலைமை ஒர...</td>\n",
              "    </tr>\n",
              "    <tr>\n",
              "      <th>3</th>\n",
              "      <td>PS_04</td>\n",
              "      <td>🇰🇬🎙️ இன்னும் 05 ஏ நாளில், வெல்வோம் தமிழராய் - ...</td>\n",
              "    </tr>\n",
              "    <tr>\n",
              "      <th>4</th>\n",
              "      <td>PS_05</td>\n",
              "      <td>டாஸ்மாக்ல மட்டும்தான் கருணாநிதி அவர்களின்  பெய...</td>\n",
              "    </tr>\n",
              "  </tbody>\n",
              "</table>\n",
              "</div>\n",
              "    <div class=\"colab-df-buttons\">\n",
              "\n",
              "  <div class=\"colab-df-container\">\n",
              "    <button class=\"colab-df-convert\" onclick=\"convertToInteractive('df-cafacf79-00b8-4fc4-aeeb-3945bff25daa')\"\n",
              "            title=\"Convert this dataframe to an interactive table.\"\n",
              "            style=\"display:none;\">\n",
              "\n",
              "  <svg xmlns=\"http://www.w3.org/2000/svg\" height=\"24px\" viewBox=\"0 -960 960 960\">\n",
              "    <path d=\"M120-120v-720h720v720H120Zm60-500h600v-160H180v160Zm220 220h160v-160H400v160Zm0 220h160v-160H400v160ZM180-400h160v-160H180v160Zm440 0h160v-160H620v160ZM180-180h160v-160H180v160Zm440 0h160v-160H620v160Z\"/>\n",
              "  </svg>\n",
              "    </button>\n",
              "\n",
              "  <style>\n",
              "    .colab-df-container {\n",
              "      display:flex;\n",
              "      gap: 12px;\n",
              "    }\n",
              "\n",
              "    .colab-df-convert {\n",
              "      background-color: #E8F0FE;\n",
              "      border: none;\n",
              "      border-radius: 50%;\n",
              "      cursor: pointer;\n",
              "      display: none;\n",
              "      fill: #1967D2;\n",
              "      height: 32px;\n",
              "      padding: 0 0 0 0;\n",
              "      width: 32px;\n",
              "    }\n",
              "\n",
              "    .colab-df-convert:hover {\n",
              "      background-color: #E2EBFA;\n",
              "      box-shadow: 0px 1px 2px rgba(60, 64, 67, 0.3), 0px 1px 3px 1px rgba(60, 64, 67, 0.15);\n",
              "      fill: #174EA6;\n",
              "    }\n",
              "\n",
              "    .colab-df-buttons div {\n",
              "      margin-bottom: 4px;\n",
              "    }\n",
              "\n",
              "    [theme=dark] .colab-df-convert {\n",
              "      background-color: #3B4455;\n",
              "      fill: #D2E3FC;\n",
              "    }\n",
              "\n",
              "    [theme=dark] .colab-df-convert:hover {\n",
              "      background-color: #434B5C;\n",
              "      box-shadow: 0px 1px 3px 1px rgba(0, 0, 0, 0.15);\n",
              "      filter: drop-shadow(0px 1px 2px rgba(0, 0, 0, 0.3));\n",
              "      fill: #FFFFFF;\n",
              "    }\n",
              "  </style>\n",
              "\n",
              "    <script>\n",
              "      const buttonEl =\n",
              "        document.querySelector('#df-cafacf79-00b8-4fc4-aeeb-3945bff25daa button.colab-df-convert');\n",
              "      buttonEl.style.display =\n",
              "        google.colab.kernel.accessAllowed ? 'block' : 'none';\n",
              "\n",
              "      async function convertToInteractive(key) {\n",
              "        const element = document.querySelector('#df-cafacf79-00b8-4fc4-aeeb-3945bff25daa');\n",
              "        const dataTable =\n",
              "          await google.colab.kernel.invokeFunction('convertToInteractive',\n",
              "                                                    [key], {});\n",
              "        if (!dataTable) return;\n",
              "\n",
              "        const docLinkHtml = 'Like what you see? Visit the ' +\n",
              "          '<a target=\"_blank\" href=https://colab.research.google.com/notebooks/data_table.ipynb>data table notebook</a>'\n",
              "          + ' to learn more about interactive tables.';\n",
              "        element.innerHTML = '';\n",
              "        dataTable['output_type'] = 'display_data';\n",
              "        await google.colab.output.renderOutput(dataTable, element);\n",
              "        const docLink = document.createElement('div');\n",
              "        docLink.innerHTML = docLinkHtml;\n",
              "        element.appendChild(docLink);\n",
              "      }\n",
              "    </script>\n",
              "  </div>\n",
              "\n",
              "\n",
              "<div id=\"df-d08d3fa4-46ee-4f0c-b259-30173b83047c\">\n",
              "  <button class=\"colab-df-quickchart\" onclick=\"quickchart('df-d08d3fa4-46ee-4f0c-b259-30173b83047c')\"\n",
              "            title=\"Suggest charts\"\n",
              "            style=\"display:none;\">\n",
              "\n",
              "<svg xmlns=\"http://www.w3.org/2000/svg\" height=\"24px\"viewBox=\"0 0 24 24\"\n",
              "     width=\"24px\">\n",
              "    <g>\n",
              "        <path d=\"M19 3H5c-1.1 0-2 .9-2 2v14c0 1.1.9 2 2 2h14c1.1 0 2-.9 2-2V5c0-1.1-.9-2-2-2zM9 17H7v-7h2v7zm4 0h-2V7h2v10zm4 0h-2v-4h2v4z\"/>\n",
              "    </g>\n",
              "</svg>\n",
              "  </button>\n",
              "\n",
              "<style>\n",
              "  .colab-df-quickchart {\n",
              "      --bg-color: #E8F0FE;\n",
              "      --fill-color: #1967D2;\n",
              "      --hover-bg-color: #E2EBFA;\n",
              "      --hover-fill-color: #174EA6;\n",
              "      --disabled-fill-color: #AAA;\n",
              "      --disabled-bg-color: #DDD;\n",
              "  }\n",
              "\n",
              "  [theme=dark] .colab-df-quickchart {\n",
              "      --bg-color: #3B4455;\n",
              "      --fill-color: #D2E3FC;\n",
              "      --hover-bg-color: #434B5C;\n",
              "      --hover-fill-color: #FFFFFF;\n",
              "      --disabled-bg-color: #3B4455;\n",
              "      --disabled-fill-color: #666;\n",
              "  }\n",
              "\n",
              "  .colab-df-quickchart {\n",
              "    background-color: var(--bg-color);\n",
              "    border: none;\n",
              "    border-radius: 50%;\n",
              "    cursor: pointer;\n",
              "    display: none;\n",
              "    fill: var(--fill-color);\n",
              "    height: 32px;\n",
              "    padding: 0;\n",
              "    width: 32px;\n",
              "  }\n",
              "\n",
              "  .colab-df-quickchart:hover {\n",
              "    background-color: var(--hover-bg-color);\n",
              "    box-shadow: 0 1px 2px rgba(60, 64, 67, 0.3), 0 1px 3px 1px rgba(60, 64, 67, 0.15);\n",
              "    fill: var(--button-hover-fill-color);\n",
              "  }\n",
              "\n",
              "  .colab-df-quickchart-complete:disabled,\n",
              "  .colab-df-quickchart-complete:disabled:hover {\n",
              "    background-color: var(--disabled-bg-color);\n",
              "    fill: var(--disabled-fill-color);\n",
              "    box-shadow: none;\n",
              "  }\n",
              "\n",
              "  .colab-df-spinner {\n",
              "    border: 2px solid var(--fill-color);\n",
              "    border-color: transparent;\n",
              "    border-bottom-color: var(--fill-color);\n",
              "    animation:\n",
              "      spin 1s steps(1) infinite;\n",
              "  }\n",
              "\n",
              "  @keyframes spin {\n",
              "    0% {\n",
              "      border-color: transparent;\n",
              "      border-bottom-color: var(--fill-color);\n",
              "      border-left-color: var(--fill-color);\n",
              "    }\n",
              "    20% {\n",
              "      border-color: transparent;\n",
              "      border-left-color: var(--fill-color);\n",
              "      border-top-color: var(--fill-color);\n",
              "    }\n",
              "    30% {\n",
              "      border-color: transparent;\n",
              "      border-left-color: var(--fill-color);\n",
              "      border-top-color: var(--fill-color);\n",
              "      border-right-color: var(--fill-color);\n",
              "    }\n",
              "    40% {\n",
              "      border-color: transparent;\n",
              "      border-right-color: var(--fill-color);\n",
              "      border-top-color: var(--fill-color);\n",
              "    }\n",
              "    60% {\n",
              "      border-color: transparent;\n",
              "      border-right-color: var(--fill-color);\n",
              "    }\n",
              "    80% {\n",
              "      border-color: transparent;\n",
              "      border-right-color: var(--fill-color);\n",
              "      border-bottom-color: var(--fill-color);\n",
              "    }\n",
              "    90% {\n",
              "      border-color: transparent;\n",
              "      border-bottom-color: var(--fill-color);\n",
              "    }\n",
              "  }\n",
              "</style>\n",
              "\n",
              "  <script>\n",
              "    async function quickchart(key) {\n",
              "      const quickchartButtonEl =\n",
              "        document.querySelector('#' + key + ' button');\n",
              "      quickchartButtonEl.disabled = true;  // To prevent multiple clicks.\n",
              "      quickchartButtonEl.classList.add('colab-df-spinner');\n",
              "      try {\n",
              "        const charts = await google.colab.kernel.invokeFunction(\n",
              "            'suggestCharts', [key], {});\n",
              "      } catch (error) {\n",
              "        console.error('Error during call to suggestCharts:', error);\n",
              "      }\n",
              "      quickchartButtonEl.classList.remove('colab-df-spinner');\n",
              "      quickchartButtonEl.classList.add('colab-df-quickchart-complete');\n",
              "    }\n",
              "    (() => {\n",
              "      let quickchartButtonEl =\n",
              "        document.querySelector('#df-d08d3fa4-46ee-4f0c-b259-30173b83047c button');\n",
              "      quickchartButtonEl.style.display =\n",
              "        google.colab.kernel.accessAllowed ? 'block' : 'none';\n",
              "    })();\n",
              "  </script>\n",
              "</div>\n",
              "\n",
              "    </div>\n",
              "  </div>\n"
            ],
            "application/vnd.google.colaboratory.intrinsic+json": {
              "type": "dataframe",
              "summary": "{\n  \"name\": \"# y_test= data_test['labels']\",\n  \"rows\": 5,\n  \"fields\": [\n    {\n      \"column\": \"Id\",\n      \"properties\": {\n        \"dtype\": \"string\",\n        \"num_unique_values\": 5,\n        \"samples\": [\n          \"PS_02\",\n          \"PS_05\",\n          \"PS_03\"\n        ],\n        \"semantic_type\": \"\",\n        \"description\": \"\"\n      }\n    },\n    {\n      \"column\": \"content\",\n      \"properties\": {\n        \"dtype\": \"string\",\n        \"num_unique_values\": 5,\n        \"samples\": [\n          \"\\n\\u0b93\\u0baa\\u0bbf\\u0b8e\\u0bb8\\u0bcd - \\u0b8e\\u0b9f\\u0baa\\u0bcd\\u0baa\\u0bbe\\u0b9f\\u0bbf \\u0baa\\u0bcb\\u0b9f\\u0bcd\\u0b9f\\u0bbe \\u0baa\\u0bcb\\u0b9f\\u0bcd\\u0b9f\\u0bbf! \\u0ba4\\u0bbf\\u0b9f\\u0bc0\\u0bb0\\u0bc6\\u0ba9 \\u0baa\\u0ba3\\u0bbf\\u0b95\\u0bb3\\u0bc8 \\u0bae\\u0bc1\\u0b9f\\u0bc1\\u0b95\\u0bcd\\u0b95\\u0bbf\\u0baf\\u0bc1\\u0bb3\\u0bcd\\u0bb3 \\u0b8e\\u0b9f\\u0baa\\u0bcd\\u0baa\\u0bbe\\u0b9f\\u0bbf!\\n#AIADMK #OPS #EPS #Annamalai #Edappadi #OPanneerselvam #OPSvsEPS #DMK #BJP #Seeman #NaamTamilar #MKStalin #IPL #IPL2023 #CSK #ChennaiSuperKings #RCBVSLSG #ViratvsGambhir #ViratKohli\",\n          \"\\u0b9f\\u0bbe\\u0bb8\\u0bcd\\u0bae\\u0bbe\\u0b95\\u0bcd\\u0bb2 \\u0bae\\u0b9f\\u0bcd\\u0b9f\\u0bc1\\u0bae\\u0bcd\\u0ba4\\u0bbe\\u0ba9\\u0bcd \\u0b95\\u0bb0\\u0bc1\\u0ba3\\u0bbe\\u0ba8\\u0bbf\\u0ba4\\u0bbf \\u0b85\\u0bb5\\u0bb0\\u0bcd\\u0b95\\u0bb3\\u0bbf\\u0ba9\\u0bcd  \\u0baa\\u0bc6\\u0baf\\u0bb0\\u0bcd \\u0baa\\u0bca\\u0bb0\\u0bc1\\u0ba4\\u0bcd\\u0ba4\\u0bae\\u0bbe\\u0ba9\\u0ba9\\u0ba4\\u0bc1 .\\n\\n\\u0ba4\\u0bae\\u0bcd\\u0baa\\u0bbf \\u0b9a\\u0bca\\u0ba9\\u0bcd\\u0ba9 \\u0baa\\u0ba4\\u0bbf\\u0bb2\\u0bcd , \\u0bae\\u0bb1\\u0bc1\\u0baa\\u0ba4\\u0bbf\\u0bb2\\u0bcd \\u0b9a\\u0bca\\u0ba9\\u0bcd\\u0ba9 \\u0b85\\u0ba3\\u0bcd\\u0ba3\\u0ba9\\u0bcd \\u0b95\\u0bb2\\u0b95\\u0bb2\\u0baa\\u0bcd\\u0baa\\u0bbe\\u0ba9 \\u0baa\\u0bca\\u0ba4\\u0bc1\\u0b95\\u0bcd \\u0b95\\u0bc2\\u0b9f\\u0bcd\\u0b9f\\u0bae\\u0bcd . \\n\\n#\\u0bae\\u0b95\\u0bcd\\u0b95\\u0bb3\\u0bbf\\u0ba9\\u0bcd_\\u0b9a\\u0bbf\\u0ba9\\u0bcd\\u0ba9\\u0bae\\u0bcd_\\u0bae\\u0bc8\\u0b95\\u0bcd\\n#Mike_VoiceOfPeople\\n#Elections2024\\n#\\u0ba4\\u0bbf\\u0bb0\\u0bc1\\u0bb5\\u0bbe\\u0bb0\\u0bc2\\u0bb0\\u0bcd \",\n          \"\\u0b87\\u0ba9\\u0bcd\\u0bb1\\u0bc8\\u0baf \\u0baa\\u0bb0\\u0baa\\u0bcd\\u0baa\\u0bc1\\u0bb0\\u0bc8:\\n\\n\\u0ba8\\u0bbe\\u0bae\\u0bcd \\u0ba4\\u0bae\\u0bbf\\u0bb4\\u0bb0\\u0bcd \\u0b95\\u0b9f\\u0bcd\\u0b9a\\u0bbf \\u0ba4\\u0bb2\\u0bc8\\u0bae\\u0bc8 \\u0b92\\u0bb0\\u0bc1\\u0b99\\u0bcd\\u0b95\\u0bbf\\u0ba3\\u0bc8\\u0baa\\u0bcd\\u0baa\\u0bbe\\u0bb3\\u0bb0\\u0bcd \\u0b9a\\u0bc0\\u0bae\\u0bbe\\u0ba9\\u0bcd \\u0b85\\u0bb5\\u0bb0\\u0bcd\\u0b95\\u0bb3\\u0bbf\\u0ba9\\u0bcd \\u0baa\\u0baf\\u0ba3\\u0baa\\u0bcd \\u0baa\\u0bb0\\u0baa\\u0bcd\\u0baa\\u0bc1\\u0bb0\\u0bc8.\\n\\n#\\u0b9a\\u0bc0\\u0bae\\u0bbe\\u0ba9\\u0bbf\\u0ba9\\u0bcd_\\u0b9a\\u0bbf\\u0ba9\\u0bcd\\u0ba9\\u0bae\\u0bcd_\\u0b92\\u0bb2\\u0bbf\\u0bb5\\u0bbe\\u0b99\\u0bcd\\u0b95\\u0bbf \\n#NTK_Symbol_Mic \\n#\\u0ba8\\u0bbe\\u0bae\\u0bcd\\u0ba4\\u0bae\\u0bbf\\u0bb4\\u0bb0\\u0bcd\\u0b95\\u0b9f\\u0bcd\\u0b9a\\u0bbf \"\n        ],\n        \"semantic_type\": \"\",\n        \"description\": \"\"\n      }\n    }\n  ]\n}"
            }
          },
          "metadata": {},
          "execution_count": 54
        }
      ]
    },
    {
      "cell_type": "code",
      "source": [
        "test.head()\n",
        "\n"
      ],
      "metadata": {
        "id": "h1FiDFa33bzV",
        "colab": {
          "base_uri": "https://localhost:8080/",
          "height": 206
        },
        "outputId": "99b76fbe-584e-4f96-dcb4-32db77bbab88"
      },
      "execution_count": 55,
      "outputs": [
        {
          "output_type": "execute_result",
          "data": {
            "text/plain": [
              "      Id                                            content\n",
              "0  PS_01  இஸ்லாமிய சகோதரர்களுடன் ரமலான் கொண்டாடிய அதிமுக...\n",
              "1  PS_02  \\nஓபிஎஸ் - எடப்பாடி போட்டா போட்டி! திடீரென பணி...\n",
              "2  PS_03  இன்றைய பரப்புரை:\\n\\nநாம் தமிழர் கட்சி தலைமை ஒர...\n",
              "3  PS_04  🇰🇬🎙️ இன்னும் 05 ஏ நாளில், வெல்வோம் தமிழராய் - ...\n",
              "4  PS_05  டாஸ்மாக்ல மட்டும்தான் கருணாநிதி அவர்களின்  பெய..."
            ],
            "text/html": [
              "\n",
              "  <div id=\"df-2223bfae-dae7-4e35-aeeb-5ca11d573aac\" class=\"colab-df-container\">\n",
              "    <div>\n",
              "<style scoped>\n",
              "    .dataframe tbody tr th:only-of-type {\n",
              "        vertical-align: middle;\n",
              "    }\n",
              "\n",
              "    .dataframe tbody tr th {\n",
              "        vertical-align: top;\n",
              "    }\n",
              "\n",
              "    .dataframe thead th {\n",
              "        text-align: right;\n",
              "    }\n",
              "</style>\n",
              "<table border=\"1\" class=\"dataframe\">\n",
              "  <thead>\n",
              "    <tr style=\"text-align: right;\">\n",
              "      <th></th>\n",
              "      <th>Id</th>\n",
              "      <th>content</th>\n",
              "    </tr>\n",
              "  </thead>\n",
              "  <tbody>\n",
              "    <tr>\n",
              "      <th>0</th>\n",
              "      <td>PS_01</td>\n",
              "      <td>இஸ்லாமிய சகோதரர்களுடன் ரமலான் கொண்டாடிய அதிமுக...</td>\n",
              "    </tr>\n",
              "    <tr>\n",
              "      <th>1</th>\n",
              "      <td>PS_02</td>\n",
              "      <td>\\nஓபிஎஸ் - எடப்பாடி போட்டா போட்டி! திடீரென பணி...</td>\n",
              "    </tr>\n",
              "    <tr>\n",
              "      <th>2</th>\n",
              "      <td>PS_03</td>\n",
              "      <td>இன்றைய பரப்புரை:\\n\\nநாம் தமிழர் கட்சி தலைமை ஒர...</td>\n",
              "    </tr>\n",
              "    <tr>\n",
              "      <th>3</th>\n",
              "      <td>PS_04</td>\n",
              "      <td>🇰🇬🎙️ இன்னும் 05 ஏ நாளில், வெல்வோம் தமிழராய் - ...</td>\n",
              "    </tr>\n",
              "    <tr>\n",
              "      <th>4</th>\n",
              "      <td>PS_05</td>\n",
              "      <td>டாஸ்மாக்ல மட்டும்தான் கருணாநிதி அவர்களின்  பெய...</td>\n",
              "    </tr>\n",
              "  </tbody>\n",
              "</table>\n",
              "</div>\n",
              "    <div class=\"colab-df-buttons\">\n",
              "\n",
              "  <div class=\"colab-df-container\">\n",
              "    <button class=\"colab-df-convert\" onclick=\"convertToInteractive('df-2223bfae-dae7-4e35-aeeb-5ca11d573aac')\"\n",
              "            title=\"Convert this dataframe to an interactive table.\"\n",
              "            style=\"display:none;\">\n",
              "\n",
              "  <svg xmlns=\"http://www.w3.org/2000/svg\" height=\"24px\" viewBox=\"0 -960 960 960\">\n",
              "    <path d=\"M120-120v-720h720v720H120Zm60-500h600v-160H180v160Zm220 220h160v-160H400v160Zm0 220h160v-160H400v160ZM180-400h160v-160H180v160Zm440 0h160v-160H620v160ZM180-180h160v-160H180v160Zm440 0h160v-160H620v160Z\"/>\n",
              "  </svg>\n",
              "    </button>\n",
              "\n",
              "  <style>\n",
              "    .colab-df-container {\n",
              "      display:flex;\n",
              "      gap: 12px;\n",
              "    }\n",
              "\n",
              "    .colab-df-convert {\n",
              "      background-color: #E8F0FE;\n",
              "      border: none;\n",
              "      border-radius: 50%;\n",
              "      cursor: pointer;\n",
              "      display: none;\n",
              "      fill: #1967D2;\n",
              "      height: 32px;\n",
              "      padding: 0 0 0 0;\n",
              "      width: 32px;\n",
              "    }\n",
              "\n",
              "    .colab-df-convert:hover {\n",
              "      background-color: #E2EBFA;\n",
              "      box-shadow: 0px 1px 2px rgba(60, 64, 67, 0.3), 0px 1px 3px 1px rgba(60, 64, 67, 0.15);\n",
              "      fill: #174EA6;\n",
              "    }\n",
              "\n",
              "    .colab-df-buttons div {\n",
              "      margin-bottom: 4px;\n",
              "    }\n",
              "\n",
              "    [theme=dark] .colab-df-convert {\n",
              "      background-color: #3B4455;\n",
              "      fill: #D2E3FC;\n",
              "    }\n",
              "\n",
              "    [theme=dark] .colab-df-convert:hover {\n",
              "      background-color: #434B5C;\n",
              "      box-shadow: 0px 1px 3px 1px rgba(0, 0, 0, 0.15);\n",
              "      filter: drop-shadow(0px 1px 2px rgba(0, 0, 0, 0.3));\n",
              "      fill: #FFFFFF;\n",
              "    }\n",
              "  </style>\n",
              "\n",
              "    <script>\n",
              "      const buttonEl =\n",
              "        document.querySelector('#df-2223bfae-dae7-4e35-aeeb-5ca11d573aac button.colab-df-convert');\n",
              "      buttonEl.style.display =\n",
              "        google.colab.kernel.accessAllowed ? 'block' : 'none';\n",
              "\n",
              "      async function convertToInteractive(key) {\n",
              "        const element = document.querySelector('#df-2223bfae-dae7-4e35-aeeb-5ca11d573aac');\n",
              "        const dataTable =\n",
              "          await google.colab.kernel.invokeFunction('convertToInteractive',\n",
              "                                                    [key], {});\n",
              "        if (!dataTable) return;\n",
              "\n",
              "        const docLinkHtml = 'Like what you see? Visit the ' +\n",
              "          '<a target=\"_blank\" href=https://colab.research.google.com/notebooks/data_table.ipynb>data table notebook</a>'\n",
              "          + ' to learn more about interactive tables.';\n",
              "        element.innerHTML = '';\n",
              "        dataTable['output_type'] = 'display_data';\n",
              "        await google.colab.output.renderOutput(dataTable, element);\n",
              "        const docLink = document.createElement('div');\n",
              "        docLink.innerHTML = docLinkHtml;\n",
              "        element.appendChild(docLink);\n",
              "      }\n",
              "    </script>\n",
              "  </div>\n",
              "\n",
              "\n",
              "<div id=\"df-e2a952e4-3a28-4e8b-b4c7-c90f08ee922c\">\n",
              "  <button class=\"colab-df-quickchart\" onclick=\"quickchart('df-e2a952e4-3a28-4e8b-b4c7-c90f08ee922c')\"\n",
              "            title=\"Suggest charts\"\n",
              "            style=\"display:none;\">\n",
              "\n",
              "<svg xmlns=\"http://www.w3.org/2000/svg\" height=\"24px\"viewBox=\"0 0 24 24\"\n",
              "     width=\"24px\">\n",
              "    <g>\n",
              "        <path d=\"M19 3H5c-1.1 0-2 .9-2 2v14c0 1.1.9 2 2 2h14c1.1 0 2-.9 2-2V5c0-1.1-.9-2-2-2zM9 17H7v-7h2v7zm4 0h-2V7h2v10zm4 0h-2v-4h2v4z\"/>\n",
              "    </g>\n",
              "</svg>\n",
              "  </button>\n",
              "\n",
              "<style>\n",
              "  .colab-df-quickchart {\n",
              "      --bg-color: #E8F0FE;\n",
              "      --fill-color: #1967D2;\n",
              "      --hover-bg-color: #E2EBFA;\n",
              "      --hover-fill-color: #174EA6;\n",
              "      --disabled-fill-color: #AAA;\n",
              "      --disabled-bg-color: #DDD;\n",
              "  }\n",
              "\n",
              "  [theme=dark] .colab-df-quickchart {\n",
              "      --bg-color: #3B4455;\n",
              "      --fill-color: #D2E3FC;\n",
              "      --hover-bg-color: #434B5C;\n",
              "      --hover-fill-color: #FFFFFF;\n",
              "      --disabled-bg-color: #3B4455;\n",
              "      --disabled-fill-color: #666;\n",
              "  }\n",
              "\n",
              "  .colab-df-quickchart {\n",
              "    background-color: var(--bg-color);\n",
              "    border: none;\n",
              "    border-radius: 50%;\n",
              "    cursor: pointer;\n",
              "    display: none;\n",
              "    fill: var(--fill-color);\n",
              "    height: 32px;\n",
              "    padding: 0;\n",
              "    width: 32px;\n",
              "  }\n",
              "\n",
              "  .colab-df-quickchart:hover {\n",
              "    background-color: var(--hover-bg-color);\n",
              "    box-shadow: 0 1px 2px rgba(60, 64, 67, 0.3), 0 1px 3px 1px rgba(60, 64, 67, 0.15);\n",
              "    fill: var(--button-hover-fill-color);\n",
              "  }\n",
              "\n",
              "  .colab-df-quickchart-complete:disabled,\n",
              "  .colab-df-quickchart-complete:disabled:hover {\n",
              "    background-color: var(--disabled-bg-color);\n",
              "    fill: var(--disabled-fill-color);\n",
              "    box-shadow: none;\n",
              "  }\n",
              "\n",
              "  .colab-df-spinner {\n",
              "    border: 2px solid var(--fill-color);\n",
              "    border-color: transparent;\n",
              "    border-bottom-color: var(--fill-color);\n",
              "    animation:\n",
              "      spin 1s steps(1) infinite;\n",
              "  }\n",
              "\n",
              "  @keyframes spin {\n",
              "    0% {\n",
              "      border-color: transparent;\n",
              "      border-bottom-color: var(--fill-color);\n",
              "      border-left-color: var(--fill-color);\n",
              "    }\n",
              "    20% {\n",
              "      border-color: transparent;\n",
              "      border-left-color: var(--fill-color);\n",
              "      border-top-color: var(--fill-color);\n",
              "    }\n",
              "    30% {\n",
              "      border-color: transparent;\n",
              "      border-left-color: var(--fill-color);\n",
              "      border-top-color: var(--fill-color);\n",
              "      border-right-color: var(--fill-color);\n",
              "    }\n",
              "    40% {\n",
              "      border-color: transparent;\n",
              "      border-right-color: var(--fill-color);\n",
              "      border-top-color: var(--fill-color);\n",
              "    }\n",
              "    60% {\n",
              "      border-color: transparent;\n",
              "      border-right-color: var(--fill-color);\n",
              "    }\n",
              "    80% {\n",
              "      border-color: transparent;\n",
              "      border-right-color: var(--fill-color);\n",
              "      border-bottom-color: var(--fill-color);\n",
              "    }\n",
              "    90% {\n",
              "      border-color: transparent;\n",
              "      border-bottom-color: var(--fill-color);\n",
              "    }\n",
              "  }\n",
              "</style>\n",
              "\n",
              "  <script>\n",
              "    async function quickchart(key) {\n",
              "      const quickchartButtonEl =\n",
              "        document.querySelector('#' + key + ' button');\n",
              "      quickchartButtonEl.disabled = true;  // To prevent multiple clicks.\n",
              "      quickchartButtonEl.classList.add('colab-df-spinner');\n",
              "      try {\n",
              "        const charts = await google.colab.kernel.invokeFunction(\n",
              "            'suggestCharts', [key], {});\n",
              "      } catch (error) {\n",
              "        console.error('Error during call to suggestCharts:', error);\n",
              "      }\n",
              "      quickchartButtonEl.classList.remove('colab-df-spinner');\n",
              "      quickchartButtonEl.classList.add('colab-df-quickchart-complete');\n",
              "    }\n",
              "    (() => {\n",
              "      let quickchartButtonEl =\n",
              "        document.querySelector('#df-e2a952e4-3a28-4e8b-b4c7-c90f08ee922c button');\n",
              "      quickchartButtonEl.style.display =\n",
              "        google.colab.kernel.accessAllowed ? 'block' : 'none';\n",
              "    })();\n",
              "  </script>\n",
              "</div>\n",
              "\n",
              "    </div>\n",
              "  </div>\n"
            ],
            "application/vnd.google.colaboratory.intrinsic+json": {
              "type": "dataframe",
              "variable_name": "test",
              "summary": "{\n  \"name\": \"test\",\n  \"rows\": 544,\n  \"fields\": [\n    {\n      \"column\": \"Id\",\n      \"properties\": {\n        \"dtype\": \"string\",\n        \"num_unique_values\": 544,\n        \"samples\": [\n          \"PS_458\",\n          \"PS_258\",\n          \"PS_358\"\n        ],\n        \"semantic_type\": \"\",\n        \"description\": \"\"\n      }\n    },\n    {\n      \"column\": \"content\",\n      \"properties\": {\n        \"dtype\": \"string\",\n        \"num_unique_values\": 538,\n        \"samples\": [\n          \"\\u0b95\\u0bb0\\u0bc1\\u0ba3\\u0bbe\\u0ba8\\u0bbf\\u0ba4\\u0bbf\\u0baf\\u0bbf\\u0ba9\\u0bcd \\u0b9a\\u0bbe\\u0bb0\\u0bbe\\u0baf\\u0b95\\u0bcd \\u0b95\\u0b9f\\u0bc8 \\u0bae\\u0bc2\\u0b9f\\u0baa\\u0bcd\\u0baa\\u0b9f\\u0bc1\\u0bae\\u0bcd . \\n\\n\\u0bae\\u0bbe\\u0b9f\\u0bcd\\u0b9f\\u0bc1\\u0b95\\u0bcd\\u0b95\\u0bb1\\u0bbf\\u0baf\\u0bc1\\u0b9f\\u0ba9\\u0bcd \\u0baa\\u0ba9\\u0bae\\u0bcd\\u0baa\\u0bbe\\u0bb2\\u0bcd \\u0ba4\\u0bc6\\u0ba9\\u0bcd\\u0ba9\\u0bae\\u0bcd\\u0baa\\u0bbe\\u0bb2\\u0bcd \\u0bb5\\u0bbf\\u0bb0\\u0bc1\\u0ba8\\u0bcd\\u0ba4\\u0bc1 . \\n\\n#\\u0bae\\u0b95\\u0bcd\\u0b95\\u0bb3\\u0bbf\\u0ba9\\u0bcd_\\u0b9a\\u0bbf\\u0ba9\\u0bcd\\u0ba9\\u0bae\\u0bcd_\\u0bae\\u0bc8\\u0b95\\u0bcd\\n#Mike_VoiceOfPeople\\n#Elections2024 \",\n          \"\\u0b9a\\u0bc0\\u0bae\\u0bbe\\u0ba9\\u0bcd \\u0b85\\u0ba9\\u0bc8\\u0bb5\\u0bb0\\u0bc1\\u0b9f\\u0ba9\\u0bc1\\u0bae\\u0bcd \\u0b92\\u0bb0\\u0bc1\\u0b99\\u0bcd\\u0b95\\u0bbf\\u0ba3\\u0bc8\\u0baf\\u0ba3\\u0bc1\\u0bae\\u0bcd.. \\u0ba4\\u0ba9\\u0bbf\\u0baf\\u0bbe\\u0b95 \\u0ba8\\u0bbf\\u0bb1\\u0bcd\\u0b95 \\u0bb5\\u0bc7\\u0ba3\\u0bcd\\u0b9f\\u0bbf\\u0baf\\u0ba4\\u0bbf\\u0bb2\\u0bcd\\u0bb2  - Jaya Prakash Interview | \\u0ba4\\u0bae\\u0bbf\\u0bb4\\u0bb0\\u0bcd \\u0bae\\u0bc1\\u0ba9\\u0bcd\\u0ba9\\u0ba3\\u0bbf  | NTK |  Seeman  \\n\\n\\u0bae\\u0bc1\\u0bb4\\u0bc1 \\u0baa\\u0bc7\\u0b9f\\u0bcd\\u0b9f\\u0bbf\\u25b6  \\n\\n#Seeman #NTK #\\u0b9a\\u0bc0\\u0bae\\u0bbe\\u0ba9\\u0bcd\",\n          \"\\u0b9a\\u0bbe\\u0ba4\\u0bbf\\u0baf\\u0bc8 \\u0ba4\\u0bc2\\u0b95\\u0bcd\\u0b95\\u0bbf \\u0baa\\u0bbf\\u0b9f\\u0bbf\\u0ba4\\u0bcd\\u0ba4\\u0bc1 \\u0baa\\u0bcb\\u0bb1\\u0bcd\\u0bb1\\u0bc1\\u0bb5\\u0bcb\\u0bae\\u0bcd.. #\\u0ba4\\u0bbf\\u0bb0\\u0bbe\\u0bb5\\u0bbf\\u0b9f\\u0bae\\u0bbe\\u0b9f\\u0bb2\\u0bcd\\u0baa\\u0bb0\\u0bbf\\u0ba4\\u0bbe\\u0baa\\u0b99\\u0bcd\\u0b95\\u0bb3\\u0bcd\"\n        ],\n        \"semantic_type\": \"\",\n        \"description\": \"\"\n      }\n    }\n  ]\n}"
            }
          },
          "metadata": {},
          "execution_count": 55
        }
      ]
    },
    {
      "cell_type": "code",
      "source": [
        "test['clean'] = test['content'].apply(lambda x:clean_text(x))\n",
        "test = pad_sequences(sequences, maxlen=100)"
      ],
      "metadata": {
        "id": "yQ56LYKhMEBI"
      },
      "execution_count": 56,
      "outputs": []
    },
    {
      "cell_type": "code",
      "source": [],
      "metadata": {
        "id": "zKm1jEHMRMOa"
      },
      "execution_count": null,
      "outputs": []
    },
    {
      "cell_type": "markdown",
      "source": [
        "**Obtain Predictions from hybrid model**"
      ],
      "metadata": {
        "id": "LNNTTC6sRMri"
      }
    },
    {
      "cell_type": "code",
      "source": [
        "pred_test1=model1.predict(test)\n",
        "pred_test2=model2.predict(test)\n",
        "pred_test3=model3.predict(test)"
      ],
      "metadata": {
        "colab": {
          "base_uri": "https://localhost:8080/"
        },
        "id": "MWu6JL6GQmbr",
        "outputId": "d4cfafad-52de-41e8-e0e6-1e0249136c79"
      },
      "execution_count": 58,
      "outputs": [
        {
          "output_type": "stream",
          "name": "stdout",
          "text": [
            "\u001b[1m17/17\u001b[0m \u001b[32m━━━━━━━━━━━━━━━━━━━━\u001b[0m\u001b[37m\u001b[0m \u001b[1m0s\u001b[0m 7ms/step\n",
            "\u001b[1m17/17\u001b[0m \u001b[32m━━━━━━━━━━━━━━━━━━━━\u001b[0m\u001b[37m\u001b[0m \u001b[1m0s\u001b[0m 9ms/step\n",
            "\u001b[1m17/17\u001b[0m \u001b[32m━━━━━━━━━━━━━━━━━━━━\u001b[0m\u001b[37m\u001b[0m \u001b[1m0s\u001b[0m 6ms/step\n"
          ]
        }
      ]
    },
    {
      "cell_type": "markdown",
      "source": [
        "**Obtain Predictions From Meta Model**"
      ],
      "metadata": {
        "id": "XRmMySO6RQgR"
      }
    },
    {
      "cell_type": "code",
      "source": [
        "stacked_predictions = np.column_stack((pred_test1, pred_test2, pred_test3))\n",
        "meta_pred1 = meta_model1.predict(stacked_predictions)\n",
        "meta_model2=meta_model1.predict(stacked_predictions)\n",
        "meta_pred3 = meta_model3.predict(stacked_predictions)\n"
      ],
      "metadata": {
        "id": "az7RGPXlRII2"
      },
      "execution_count": 87,
      "outputs": []
    },
    {
      "cell_type": "markdown",
      "source": [
        "**Decode Predictions**"
      ],
      "metadata": {
        "id": "3Z6D-Oe3TXsB"
      }
    },
    {
      "cell_type": "code",
      "source": [
        "|decoded_labels_test = [diz_label1[index] for index in y_pred_classes]\n",
        "\n",
        "decoded_labels = [diz_label1[index] for index in meta_pred1]"
      ],
      "metadata": {
        "id": "fjIDcCE0Vvhq"
      },
      "execution_count": 88,
      "outputs": []
    },
    {
      "cell_type": "code",
      "source": [
        "# decoded_labels"
      ],
      "metadata": {
        "id": "6amTbh4dTu_h"
      },
      "execution_count": 98,
      "outputs": []
    },
    {
      "cell_type": "markdown",
      "source": [
        "**Create the Submission DataFrame**"
      ],
      "metadata": {
        "id": "1fNDBvRfV_AH"
      }
    },
    {
      "source": [
        "# Load the original test DataFrame\n",
        "original_test_df = pd.read_csv(\"/content/drive/MyDrive/PS_test_without_lables.csv\")\n",
        "\n",
        "# Create the submission DataFrame using the 'Id' column from the original test DataFrame\n",
        "submission_df = pd.DataFrame({'id': original_test_df['Id'], 'Labels': decoded_labels})\n",
        "submission_df.to_csv('YenCS_Tamil_run3.csv', index=False)"
      ],
      "cell_type": "code",
      "metadata": {
        "id": "k3nA3WpkT3nX"
      },
      "execution_count": 94,
      "outputs": []
    },
    {
      "source": [
        "len(submission_df),len(original_test_df)"
      ],
      "cell_type": "code",
      "metadata": {
        "colab": {
          "base_uri": "https://localhost:8080/"
        },
        "id": "xmTFRnOKTpr3",
        "outputId": "21a5d771-a649-4d43-95c2-491676967bf6"
      },
      "execution_count": 97,
      "outputs": [
        {
          "output_type": "execute_result",
          "data": {
            "text/plain": [
              "(544, 544)"
            ]
          },
          "metadata": {},
          "execution_count": 97
        }
      ]
    }
  ]
}